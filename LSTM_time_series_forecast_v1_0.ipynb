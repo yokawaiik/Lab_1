{
  "nbformat": 4,
  "nbformat_minor": 0,
  "metadata": {
    "colab": {
      "name": "LSTM_time-series-forecast_v1.0.ipynb",
      "provenance": [],
      "collapsed_sections": [],
      "toc_visible": true,
      "authorship_tag": "ABX9TyOJFTXmbJGtd+llVypOinnd",
      "include_colab_link": true
    },
    "kernelspec": {
      "name": "python3",
      "display_name": "Python 3"
    },
    "language_info": {
      "name": "python"
    }
  },
  "cells": [
    {
      "cell_type": "markdown",
      "metadata": {
        "id": "view-in-github",
        "colab_type": "text"
      },
      "source": [
        "<a href=\"https://colab.research.google.com/github/YoKawaiiK/Lab_1/blob/master/LSTM_time_series_forecast_v1_0.ipynb\" target=\"_parent\"><img src=\"https://colab.research.google.com/assets/colab-badge.svg\" alt=\"Open In Colab\"/></a>"
      ]
    },
    {
      "cell_type": "markdown",
      "metadata": {
        "id": "H4pIaWohUBZr"
      },
      "source": [
        "# **Предсказание временных рядов**"
      ]
    },
    {
      "cell_type": "markdown",
      "metadata": {
        "id": "MJwUBFSjVADe"
      },
      "source": [
        "## Краткое описание исследования\n",
        "\n",
        "Проект по созданию нейросети для прогнозирования временных рядов при помощи библиотеки keras.\n"
      ]
    },
    {
      "cell_type": "markdown",
      "metadata": {
        "id": "_z2drijCUzvv"
      },
      "source": [
        "### Теги\n",
        "> Python, keras, LSTM, NN, time-series forecast, predict future"
      ]
    },
    {
      "cell_type": "markdown",
      "metadata": {
        "id": "rlwqhz0PUpEN"
      },
      "source": [
        "### Основные элементы\n",
        "\n",
        "В работе использовались основные элементы\n",
        "1.   Библиотека Python Keras;\n",
        "2.   Рекурентные нейросети с долгой краткосрочной памятью (LSTM);\n",
        "3.   Dataset: [оценка популярности языков  программирования с 2004 года](https://www.kaggle.com/japandata509/popular-programming-languages-every-month/data)."
      ]
    },
    {
      "cell_type": "markdown",
      "metadata": {
        "id": "Mdt95jMjUw08"
      },
      "source": [
        "### Автор\n",
        "Shubin Danil Vitalievich"
      ]
    },
    {
      "cell_type": "markdown",
      "metadata": {
        "id": "WXgnwCjsT0t3"
      },
      "source": [
        "## Подключение библиотек"
      ]
    },
    {
      "cell_type": "code",
      "metadata": {
        "id": "ibBC_4KQFcem"
      },
      "source": [
        "import numpy as np \n",
        "import pandas as pd \n",
        "import matplotlib.pyplot as plt\n",
        "from datetime import datetime\n",
        "from keras.models import Sequential\n",
        "from keras.layers import Dense, LSTM, Dropout\n",
        "\n",
        "from sklearn.preprocessing import MinMaxScaler\n",
        "from sklearn.metrics import mean_squared_error, mean_absolute_error\n",
        "from sklearn.model_selection import train_test_split\n",
        "from keras.callbacks import EarlyStopping"
      ],
      "execution_count": 931,
      "outputs": []
    },
    {
      "cell_type": "code",
      "metadata": {
        "id": "VUitazWbFkX3"
      },
      "source": [
        "# Функция конвертирования строк времени в Dataset\n",
        "def to_datetime(df):\n",
        "    date = datetime.strptime(df, '%B %Y')\n",
        "    return date.strftime(\"%Y-%m-%d\")"
      ],
      "execution_count": 932,
      "outputs": []
    },
    {
      "cell_type": "markdown",
      "metadata": {
        "id": "3VkCnCFeP3OU"
      },
      "source": [
        "## Описание Dataset\n",
        "\n",
        "Dataset для анализа содержит столбцы\n",
        "1.   Дата (индексируемый столбец) с шагом 1 месяц;\n",
        "2.   Языки программирования (для каждого свой столбец с данными).\n",
        "\n",
        "В данной работе прогнозируется популярность языка программирования Dart на следующий год. \n",
        "\n",
        "Рост популярности Dart обуславливается активным развитием в последние несколько лет кроссплатформенного фреймворка Flutter, который развивает Google."
      ]
    },
    {
      "cell_type": "code",
      "metadata": {
        "id": "oHZvpSRBFkVX"
      },
      "source": [
        "\n",
        "columns_data = ['Date','Dart']\n",
        "df = pd.read_csv('./Most Popular Programming Languages from 2004 to 2021.csv')\n",
        "\n",
        "df.drop(df.columns.difference(columns_data), 1, inplace=True, )\n",
        "\n",
        "df['Date'] = df['Date'].apply(lambda x: to_datetime(x))\n",
        "df = df.sort_values('Date').reset_index(drop=True)\n",
        "\n",
        "# Удаление нулевых значений из набора данных\n",
        "for column in df.columns:\n",
        "   df = df[df[column]!=0]"
      ],
      "execution_count": 933,
      "outputs": []
    },
    {
      "cell_type": "markdown",
      "metadata": {
        "id": "dRcl8zeSQcHf"
      },
      "source": [
        "## Вид данных и график популярности"
      ]
    },
    {
      "cell_type": "code",
      "metadata": {
        "colab": {
          "base_uri": "https://localhost:8080/",
          "height": 204
        },
        "id": "4YHp9cS8Qczk",
        "outputId": "7a70be8b-6741-45a5-ca9a-6a63996b01c7"
      },
      "source": [
        "df.head()"
      ],
      "execution_count": 934,
      "outputs": [
        {
          "output_type": "execute_result",
          "data": {
            "text/html": [
              "<div>\n",
              "<style scoped>\n",
              "    .dataframe tbody tr th:only-of-type {\n",
              "        vertical-align: middle;\n",
              "    }\n",
              "\n",
              "    .dataframe tbody tr th {\n",
              "        vertical-align: top;\n",
              "    }\n",
              "\n",
              "    .dataframe thead th {\n",
              "        text-align: right;\n",
              "    }\n",
              "</style>\n",
              "<table border=\"1\" class=\"dataframe\">\n",
              "  <thead>\n",
              "    <tr style=\"text-align: right;\">\n",
              "      <th></th>\n",
              "      <th>Date</th>\n",
              "      <th>Dart</th>\n",
              "    </tr>\n",
              "  </thead>\n",
              "  <tbody>\n",
              "    <tr>\n",
              "      <th>79</th>\n",
              "      <td>2011-02-01</td>\n",
              "      <td>0.01</td>\n",
              "    </tr>\n",
              "    <tr>\n",
              "      <th>80</th>\n",
              "      <td>2011-03-01</td>\n",
              "      <td>0.02</td>\n",
              "    </tr>\n",
              "    <tr>\n",
              "      <th>81</th>\n",
              "      <td>2011-04-01</td>\n",
              "      <td>0.04</td>\n",
              "    </tr>\n",
              "    <tr>\n",
              "      <th>82</th>\n",
              "      <td>2011-05-01</td>\n",
              "      <td>0.05</td>\n",
              "    </tr>\n",
              "    <tr>\n",
              "      <th>83</th>\n",
              "      <td>2011-06-01</td>\n",
              "      <td>0.06</td>\n",
              "    </tr>\n",
              "  </tbody>\n",
              "</table>\n",
              "</div>"
            ],
            "text/plain": [
              "          Date  Dart\n",
              "79  2011-02-01  0.01\n",
              "80  2011-03-01  0.02\n",
              "81  2011-04-01  0.04\n",
              "82  2011-05-01  0.05\n",
              "83  2011-06-01  0.06"
            ]
          },
          "metadata": {},
          "execution_count": 934
        }
      ]
    },
    {
      "cell_type": "code",
      "metadata": {
        "colab": {
          "base_uri": "https://localhost:8080/",
          "height": 329
        },
        "id": "KcHrulxzFkPg",
        "outputId": "a07ac792-3eec-4bf5-fe54-87780a540915"
      },
      "source": [
        "df['Dart'] = df['Dart'].astype(float)\n",
        "\n",
        "plt.figure(figsize=(20,7))\n",
        "plt.plot(\n",
        "    df['Date'].values, \n",
        "    df['Dart'].values, \n",
        "    label = 'Original Dart rating', \n",
        "    color = 'g'\n",
        "    )\n",
        "plt.xticks(np.arange(0, df.shape[0], 12))\n",
        "plt.xlabel('Date')\n",
        "plt.ylabel('Dart, %')\n",
        "plt.legend()\n",
        "plt.show()"
      ],
      "execution_count": 935,
      "outputs": [
        {
          "output_type": "display_data",
          "data": {
            "image/png": "[encoded data removed]",
            "text/plain": [
              "<Figure size 1440x504 with 1 Axes>"
            ]
          },
          "metadata": {
            "needs_background": "light"
          }
        }
      ]
    },
    {
      "cell_type": "markdown",
      "metadata": {
        "id": "vIxOtmIJREsJ"
      },
      "source": [
        "## Подготовка выборок для обучения и тестирования"
      ]
    },
    {
      "cell_type": "code",
      "metadata": {
        "id": "1xLWCJ0rFkNT",
        "colab": {
          "base_uri": "https://localhost:8080/"
        },
        "outputId": "ab5bade8-702a-4236-881e-ce0a77b74be3"
      },
      "source": [
        "num_shape = int(len(df) * 0.7)\n",
        "\n",
        "train = df.iloc[:num_shape, 1:2].values\n",
        "test = df.iloc[num_shape:, 1:2].values\n",
        "\n",
        "train.size, test.size"
      ],
      "execution_count": 936,
      "outputs": [
        {
          "output_type": "execute_result",
          "data": {
            "text/plain": [
              "(89, 39)"
            ]
          },
          "metadata": {},
          "execution_count": 936
        }
      ]
    },
    {
      "cell_type": "code",
      "metadata": {
        "id": "C2T1FvIrFkLF"
      },
      "source": [
        "sc = MinMaxScaler(feature_range = (0, 1))\n",
        "train_scaled = sc.fit_transform(train)"
      ],
      "execution_count": 937,
      "outputs": []
    },
    {
      "cell_type": "code",
      "metadata": {
        "id": "ALFfKq6xFkIv"
      },
      "source": [
        "X_train = []\n",
        "y_train = []\n",
        "# Ширина окна\n",
        "window = 3\n",
        "# Нарезка набора данных\n",
        "for i in range(window, num_shape):\n",
        "    X_train_ = np.reshape(train_scaled[i-window:i, 0], (window, 1))\n",
        "    X_train.append(X_train_)\n",
        "    y_train.append(train_scaled[i, 0])\n",
        "X_train = np.stack(X_train)\n",
        "y_train = np.stack(y_train)"
      ],
      "execution_count": 938,
      "outputs": []
    },
    {
      "cell_type": "markdown",
      "metadata": {
        "id": "q_xvOu90HqRn"
      },
      "source": [
        "## Архитектура нейронной сети\n",
        "\n",
        "Инициализация рекуренетной нейронной сети для прогнозирования временных рядов с ячейками LSTM"
      ]
    },
    {
      "cell_type": "code",
      "metadata": {
        "colab": {
          "base_uri": "https://localhost:8080/"
        },
        "id": "_hKJrGOlFkGP",
        "outputId": "5f2f6be3-6f33-4019-fbcb-95c3d849f219"
      },
      "source": [
        "\n",
        "model = Sequential()\n",
        "# Добавление слоев LSTM с функцией активации сигмоида и некоторой регуляризацией Dropout\n",
        "# units - размерность выходного слоя\n",
        "model.add(LSTM(units = 60, return_sequences = True, input_shape = (X_train.shape[1], 1)))\n",
        "model.add(Dropout(0.1))\n",
        "model.add(LSTM(units = 60, return_sequences = True))\n",
        "model.add(Dropout(0.1))\n",
        "model.add(LSTM(units = 60, return_sequences = True))\n",
        "model.add(Dropout(0.1))\n",
        "model.add(LSTM(units = 60))\n",
        "model.add(Dropout(0.1))\n",
        "# Выходной слой\n",
        "model.add(Dense(units = 1))\n",
        "model.summary()"
      ],
      "execution_count": 939,
      "outputs": [
        {
          "output_type": "stream",
          "name": "stdout",
          "text": [
            "Model: \"sequential_45\"\n",
            "_________________________________________________________________\n",
            "Layer (type)                 Output Shape              Param #   \n",
            "=================================================================\n",
            "lstm_180 (LSTM)              (None, 3, 60)             14880     \n",
            "_________________________________________________________________\n",
            "dropout_180 (Dropout)        (None, 3, 60)             0         \n",
            "_________________________________________________________________\n",
            "lstm_181 (LSTM)              (None, 3, 60)             29040     \n",
            "_________________________________________________________________\n",
            "dropout_181 (Dropout)        (None, 3, 60)             0         \n",
            "_________________________________________________________________\n",
            "lstm_182 (LSTM)              (None, 3, 60)             29040     \n",
            "_________________________________________________________________\n",
            "dropout_182 (Dropout)        (None, 3, 60)             0         \n",
            "_________________________________________________________________\n",
            "lstm_183 (LSTM)              (None, 60)                29040     \n",
            "_________________________________________________________________\n",
            "dropout_183 (Dropout)        (None, 60)                0         \n",
            "_________________________________________________________________\n",
            "dense_45 (Dense)             (None, 1)                 61        \n",
            "=================================================================\n",
            "Total params: 102,061\n",
            "Trainable params: 102,061\n",
            "Non-trainable params: 0\n",
            "_________________________________________________________________\n"
          ]
        }
      ]
    },
    {
      "cell_type": "markdown",
      "metadata": {
        "id": "9jOy9LidH_Aj"
      },
      "source": [
        "## Компиляция нейронной сети и тренировка"
      ]
    },
    {
      "cell_type": "code",
      "metadata": {
        "colab": {
          "base_uri": "https://localhost:8080/"
        },
        "id": "ER8m5CnaFkDK",
        "outputId": "3bf4efa6-6aaa-43dd-87cc-5ff97d57048b"
      },
      "source": [
        "# Ранняя остановка модели для избежания перетренировки\n",
        "earlyStoping = EarlyStopping(monitor='loss', patience=10)\n",
        "\n",
        "model.compile(optimizer = 'adam', loss = 'mean_squared_error')\n",
        "\n",
        "history = model.fit(\n",
        "    X_train, \n",
        "    y_train, \n",
        "    epochs = 200, \n",
        "    batch_size = 2,\n",
        "    callbacks = [earlyStoping]\n",
        "    );"
      ],
      "execution_count": 940,
      "outputs": [
        {
          "output_type": "stream",
          "name": "stdout",
          "text": [
            "Epoch 1/200\n",
            "43/43 [==============================] - 6s 8ms/step - loss: 0.1361\n",
            "Epoch 2/200\n",
            "43/43 [==============================] - 0s 8ms/step - loss: 0.0145\n",
            "Epoch 3/200\n",
            "43/43 [==============================] - 0s 9ms/step - loss: 0.0126\n",
            "Epoch 4/200\n",
            "43/43 [==============================] - 0s 9ms/step - loss: 0.0117\n",
            "Epoch 5/200\n",
            "43/43 [==============================] - 0s 9ms/step - loss: 0.0091\n",
            "Epoch 6/200\n",
            "43/43 [==============================] - 0s 9ms/step - loss: 0.0095\n",
            "Epoch 7/200\n",
            "43/43 [==============================] - 0s 8ms/step - loss: 0.0100\n",
            "Epoch 8/200\n",
            "43/43 [==============================] - 0s 8ms/step - loss: 0.0111\n",
            "Epoch 9/200\n",
            "43/43 [==============================] - 0s 8ms/step - loss: 0.0111\n",
            "Epoch 10/200\n",
            "43/43 [==============================] - 0s 9ms/step - loss: 0.0101\n",
            "Epoch 11/200\n",
            "43/43 [==============================] - 0s 9ms/step - loss: 0.0111\n",
            "Epoch 12/200\n",
            "43/43 [==============================] - 0s 8ms/step - loss: 0.0086\n",
            "Epoch 13/200\n",
            "43/43 [==============================] - 0s 8ms/step - loss: 0.0111\n",
            "Epoch 14/200\n",
            "43/43 [==============================] - 0s 8ms/step - loss: 0.0094\n",
            "Epoch 15/200\n",
            "43/43 [==============================] - 0s 8ms/step - loss: 0.0087\n",
            "Epoch 16/200\n",
            "43/43 [==============================] - 0s 8ms/step - loss: 0.0083\n",
            "Epoch 17/200\n",
            "43/43 [==============================] - 0s 8ms/step - loss: 0.0093\n",
            "Epoch 18/200\n",
            "43/43 [==============================] - 0s 9ms/step - loss: 0.0095\n",
            "Epoch 19/200\n",
            "43/43 [==============================] - 0s 8ms/step - loss: 0.0101\n",
            "Epoch 20/200\n",
            "43/43 [==============================] - 0s 9ms/step - loss: 0.0098\n",
            "Epoch 21/200\n",
            "43/43 [==============================] - 0s 8ms/step - loss: 0.0091\n",
            "Epoch 22/200\n",
            "43/43 [==============================] - 0s 9ms/step - loss: 0.0091\n",
            "Epoch 23/200\n",
            "43/43 [==============================] - 0s 8ms/step - loss: 0.0093\n",
            "Epoch 24/200\n",
            "43/43 [==============================] - 0s 8ms/step - loss: 0.0098\n",
            "Epoch 25/200\n",
            "43/43 [==============================] - 0s 8ms/step - loss: 0.0086\n",
            "Epoch 26/200\n",
            "43/43 [==============================] - 0s 8ms/step - loss: 0.0096\n"
          ]
        }
      ]
    },
    {
      "cell_type": "code",
      "metadata": {
        "id": "GuAQ2iU4Fj93"
      },
      "source": [
        "df_volume = np.vstack((train, test))\n",
        "\n",
        "inputs = df_volume[df_volume.shape[0] - test.shape[0] - window:]\n",
        "inputs = inputs.reshape(-1,1)\n",
        "inputs = sc.transform(inputs)\n",
        "\n",
        "num_2 = df_volume.shape[0] - num_shape + window\n",
        "\n",
        "# Массив для тестирования\n",
        "X_test = []\n",
        "\n",
        "for i in range(window, num_2):\n",
        "    X_test_ = np.reshape(inputs[i-window:i, 0], (window, 1))\n",
        "    X_test.append(X_test_)\n",
        "    \n",
        "X_test = np.stack(X_test)"
      ],
      "execution_count": 941,
      "outputs": []
    },
    {
      "cell_type": "markdown",
      "metadata": {
        "id": "Op7jADbmRzON"
      },
      "source": [
        "## Проверка качества модели"
      ]
    },
    {
      "cell_type": "markdown",
      "metadata": {
        "id": "IQHPa4aZORPh"
      },
      "source": [
        "### Прогнозирование на основе данных для тестирования модели"
      ]
    },
    {
      "cell_type": "code",
      "metadata": {
        "id": "9P7-7nmzFj7Z"
      },
      "source": [
        "predict = model.predict(X_test)\n",
        "predict = sc.inverse_transform(predict)"
      ],
      "execution_count": 942,
      "outputs": []
    },
    {
      "cell_type": "markdown",
      "metadata": {
        "id": "mRhwC5jjI0G8"
      },
      "source": [
        "### Ошибка нейросети\n",
        "\n",
        "1.   MSE - среднеквадратичная ошибка;\n",
        "2.   MAE - средняя абсолютная ошибка;\n",
        "3.   RMSE - среднеквадратичное отклонение оценщика;\n",
        "\n",
        "Чем меньше значения, тем лучше модель."
      ]
    },
    {
      "cell_type": "code",
      "metadata": {
        "id": "3KBskmFUFj5R",
        "colab": {
          "base_uri": "https://localhost:8080/"
        },
        "outputId": "71ca18ea-8297-404e-ea01-93e78d041399"
      },
      "source": [
        "diff = predict - test\n",
        "\n",
        "print(\"MSE:\", np.mean(diff**2))\n",
        "print(\"MAE:\", np.mean(abs(diff)))\n",
        "print(\"RMSE:\", np.sqrt(np.mean(diff**2)))"
      ],
      "execution_count": 943,
      "outputs": [
        {
          "output_type": "stream",
          "name": "stdout",
          "text": [
            "MSE: 0.02248495732761308\n",
            "MAE: 0.13191157296682013\n",
            "RMSE: 0.149949849375093\n"
          ]
        }
      ]
    },
    {
      "cell_type": "markdown",
      "metadata": {
        "id": "ZtX_-I3GOroS"
      },
      "source": [
        "## Отображение на графике"
      ]
    },
    {
      "cell_type": "code",
      "metadata": {
        "id": "jbh9eAD1Fj22",
        "colab": {
          "base_uri": "https://localhost:8080/",
          "height": 467
        },
        "outputId": "03787524-625a-4d09-90cf-2ff9bb01e8ae"
      },
      "source": [
        "data_array = np.arange(0, len(df[:num_shape]) + len(predict), 12)\n",
        "\n",
        "plt.figure(figsize=(16,8))\n",
        "plt.plot(\n",
        "    df['Date'].values, \n",
        "    df_volume, \n",
        "    color = 'g', \n",
        "    label = 'Original Dart rating')\n",
        "plt.plot(\n",
        "    df['Date'][-predict.shape[0]:].values,\n",
        "    predict, \n",
        "    color = 'm', \n",
        "    label = 'Predicted Dart rating'\n",
        "    )\n",
        "plt.xticks(data_array)\n",
        "\n",
        "plt.title('Dart rating prediction')\n",
        "plt.xlabel('Date')\n",
        "plt.ylabel('Rating, %')\n",
        "plt.legend()\n",
        "plt.show()"
      ],
      "execution_count": 1072,
      "outputs": [
        {
          "output_type": "display_data",
          "data": {
            "image/png": "[encoded data removed]",
            "text/plain": [
              "<Figure size 1152x576 with 1 Axes>"
            ]
          },
          "metadata": {
            "needs_background": "light"
          }
        }
      ]
    },
    {
      "cell_type": "markdown",
      "metadata": {
        "id": "TkcRdqwZF82C"
      },
      "source": [
        "## Прогнозирование неизвестного будущего\n",
        "\n",
        "При помощи обученной модели прогнозируются будущие значения, которые основаны на уже имеющихся данных"
      ]
    },
    {
      "cell_type": "code",
      "metadata": {
        "id": "t_OfwijiF7cl"
      },
      "source": [
        "pred_ = predict[-1].copy()\n",
        "prediction_full = []\n",
        "df_copy = df.iloc[:, 1:2][1:].values\n",
        "\n",
        "for j in range(12):\n",
        "    df_ = np.vstack((df_copy, pred_))\n",
        "    train_ = df_[:num_shape]\n",
        "    test_ = df_[num_shape:]\n",
        "    df_volume_ = np.vstack((train_, test_))\n",
        "    inputs_ = df_volume_[df_volume_.shape[0] - test_.shape[0] - window:]\n",
        "    inputs_ = inputs_.reshape(-1,1)\n",
        "    inputs_ = sc.transform(inputs_)\n",
        "    X_test_2 = []\n",
        "    for k in range(window, num_2):\n",
        "        X_test_3 = np.reshape(inputs_[k-window:k, 0], (window, 1))\n",
        "        X_test_2.append(X_test_3)\n",
        " \n",
        "    X_test_ = np.stack(X_test_2)\n",
        "    predict_ = model.predict(X_test_)\n",
        "    pred_ = sc.inverse_transform(predict_)\n",
        "    prediction_full.append(pred_[-1][0])\n",
        "    df_copy = df_[j:]\n",
        "\n",
        "prediction_full_new = np.vstack((predict, np.array(prediction_full).reshape(-1,1)))"
      ],
      "execution_count": 947,
      "outputs": []
    },
    {
      "cell_type": "code",
      "metadata": {
        "id": "KduIAJO3GCJ7"
      },
      "source": [
        "# Формирование будущих дат\n",
        "df_date = df[['Date']]\n",
        "\n",
        "for h in range(12):\n",
        "    df_date_add = pd.to_datetime(df_date['Date'].iloc[-1]) + pd.DateOffset(months=1)\n",
        "    df_date_add = pd.DataFrame([df_date_add.strftime(\"%Y-%m-%d\")], columns=['Date'])\n",
        "    df_date = df_date.append(df_date_add)\n",
        "df_date = df_date.reset_index(drop=True)"
      ],
      "execution_count": 948,
      "outputs": []
    },
    {
      "cell_type": "markdown",
      "metadata": {
        "id": "s6LO-0FWSpA0"
      },
      "source": [
        "### График с прогнозом на следующий год"
      ]
    },
    {
      "cell_type": "code",
      "metadata": {
        "id": "ziUKwMozGCHo",
        "colab": {
          "base_uri": "https://localhost:8080/",
          "height": 467
        },
        "outputId": "5e4a228b-8152-45b1-fa78-12b6bb8a0626"
      },
      "source": [
        "data_array = np.append(\n",
        "    np.arange(0, len(prediction_full_new), 6), \n",
        "    [prediction_full_new.size]\n",
        "    )\n",
        "\n",
        "plt.figure(figsize=(16,8))\n",
        "plt.plot(\n",
        "    df['Date'].values[num_shape:], \n",
        "    df_volume[c:], \n",
        "    color = 'g', \n",
        "    label = 'Original Dart rating'\n",
        "    )\n",
        "plt.plot(\n",
        "    df_date['Date'][-prediction_full_new.shape[0]:].values, \n",
        "    prediction_full_new, \n",
        "    color = 'm', \n",
        "    label = 'Predicted Tesla Stock Price'\n",
        "    )\n",
        "plt.xticks(data_array)\n",
        "plt.title('Dart rating prediction')\n",
        "plt.xlabel('Date')\n",
        "plt.ylabel('Rating, %')\n",
        "plt.legend()\n",
        "plt.show()"
      ],
      "execution_count": 1050,
      "outputs": [
        {
          "output_type": "display_data",
          "data": {
            "image/png": "[encoded data removed]",
            "text/plain": [
              "<Figure size 1152x576 with 1 Axes>"
            ]
          },
          "metadata": {
            "needs_background": "light"
          }
        }
      ]
    },
    {
      "cell_type": "markdown",
      "metadata": {
        "id": "3qRbm7_ISzxL"
      },
      "source": [
        "## Заключение\n",
        "\n",
        "Сформированная и обученная нейросеть понимает тренд и в целом дает представление о том в каком направлении будет расти популярность языка программирования Dart, однако с каждым шагом прогноза на будущий период растет величина ошибки, поэтому полученные прогнозы на длительные периоды времени не будут адекватны и соответствовать действительности.\n",
        "\n",
        "Кроме того, получаемые результаты при пронозировании могут варьироваться при каждом запуске кода, поскольку процесс обучения модели носит стоахастический характер."
      ]
    }
  ]
}